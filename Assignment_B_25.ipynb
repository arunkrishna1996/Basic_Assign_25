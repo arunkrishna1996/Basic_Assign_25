{
 "cells": [
  {
   "cell_type": "code",
   "execution_count": 12,
   "id": "10690002",
   "metadata": {},
   "outputs": [
    {
     "name": "stdout",
     "output_type": "stream",
     "text": [
      "3\n",
      "0\n",
      "2\n"
     ]
    }
   ],
   "source": [
    "#Create a function that takes three integer arguments (a, b, c) and returns the amount of integers which are of equal value.\n",
    "def arguments(a,b,c):\n",
    "    if a==b==c:\n",
    "        print(\"3\")\n",
    "    elif a==b or b==c or a==c:\n",
    "        print(\"2\")\n",
    "    else:\n",
    "        print(0)\n",
    "a=arguments(3,3,3)\n",
    "b=arguments(3,2,1)\n",
    "c=arguments(1,1,3)"
   ]
  },
  {
   "cell_type": "code",
   "execution_count": 7,
   "id": "31889325",
   "metadata": {},
   "outputs": [
    {
     "name": "stdout",
     "output_type": "stream",
     "text": [
      "[('B', 2), ('C', 3), ('D', 1)]\n",
      "[('dislikes', 3), ('followers', 10), ('likes', 2)]\n"
     ]
    }
   ],
   "source": [
    "#Write a function that converts a dictionary into a list of keys-values tuples.\n",
    "def dict_to_list(**kwargs):\n",
    "    b=kwargs.items()\n",
    "    c=list(b)\n",
    "    c.sort()\n",
    "    print (c)\n",
    "\n",
    "a=dict_to_list(D=1,B=2,C=3)\n",
    "z=dict_to_list(likes=2,dislikes=3,followers=10)\n"
   ]
  },
  {
   "cell_type": "code",
   "execution_count": 22,
   "id": "5740619e",
   "metadata": {},
   "outputs": [
    {
     "name": "stdout",
     "output_type": "stream",
     "text": [
      "{'p': 'P', 's': 'S'}\n",
      "{'a': 'A', 'b': 'B', 'c': 'C'}\n",
      "{'a': 'A', 'v': 'V', 'y': 'Y', 'z': 'Z'}\n"
     ]
    }
   ],
   "source": [
    "#Write a function that creates a dictionary with each (key, value) pair being the (lower case, upper case) versions of a letter, respectively.\n",
    "\n",
    "def mapping(*args):\n",
    "    a={}\n",
    "    for i in args:\n",
    "        if type(i)==str:\n",
    "            b=i.upper()\n",
    "            a[i]=b\n",
    "    print (a)\n",
    "\n",
    "mapping(\"p\", \"s\")\n",
    "mapping(\"a\", \"b\", \"c\")\n",
    "mapping(\"a\", \"v\", \"y\", \"z\") "
   ]
  },
  {
   "cell_type": "code",
   "execution_count": 33,
   "id": "2b8df5da",
   "metadata": {
    "scrolled": true
   },
   "outputs": [
    {
     "name": "stdout",
     "output_type": "stream",
     "text": [
      "upplus und bununus\n",
      "chooso cossorolo\n",
      "steffed jelepene peppers\n"
     ]
    }
   ],
   "source": [
    "#Write a function, that replaces all vowels in a string with a specified vowel.\n",
    "\n",
    "def vow_replace(a,b):\n",
    "    vowels=\"aeiou\"\n",
    "    for i in a:\n",
    "        for j in vowels:\n",
    "            if i==j:\n",
    "                a=a.replace(i,b)\n",
    "    print (a)\n",
    "\n",
    "vow_replace(\"apples and bananas\", \"u\") \n",
    "vow_replace(\"cheese casserole\", \"o\") \n",
    "vow_replace(\"stuffed jalapeno poppers\", \"e\") "
   ]
  },
  {
   "cell_type": "code",
   "execution_count": 7,
   "id": "733732d3",
   "metadata": {},
   "outputs": [
    {
     "name": "stdout",
     "output_type": "stream",
     "text": [
      "To Be oR NoT To Be!\n",
      "THe LiTTLe meRmaiD\n",
      "oH wHaT a BeauTiFuL moRNiNg.\n"
     ]
    }
   ],
   "source": [
    "#Create a function that takes a string as input and capitalizes a letter if its ASCII code is even and returns its lower case version if its ASCII code is odd.\n",
    "\n",
    "def ascii_capitalize(a):\n",
    "    for i in a:\n",
    "        if ord(i)%2==0:\n",
    "            a=a.replace(i,i.upper())       \n",
    "        else:\n",
    "            a=a.replace(i,i.lower())\n",
    "    print (a)\n",
    "ascii_capitalize(\"to be or not to be!\")\n",
    "ascii_capitalize(\"THE LITTLE MERMAID\") \n",
    "ascii_capitalize(\"Oh what a beautiful morning.\") "
   ]
  },
  {
   "cell_type": "code",
   "execution_count": null,
   "id": "bba1e299",
   "metadata": {},
   "outputs": [],
   "source": []
  },
  {
   "cell_type": "code",
   "execution_count": null,
   "id": "e33a86ec",
   "metadata": {},
   "outputs": [],
   "source": []
  }
 ],
 "metadata": {
  "kernelspec": {
   "display_name": "Python 3 (ipykernel)",
   "language": "python",
   "name": "python3"
  },
  "language_info": {
   "codemirror_mode": {
    "name": "ipython",
    "version": 3
   },
   "file_extension": ".py",
   "mimetype": "text/x-python",
   "name": "python",
   "nbconvert_exporter": "python",
   "pygments_lexer": "ipython3",
   "version": "3.9.7"
  }
 },
 "nbformat": 4,
 "nbformat_minor": 5
}
